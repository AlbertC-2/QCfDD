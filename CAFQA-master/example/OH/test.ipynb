{
 "cells": [
  {
   "cell_type": "code",
   "execution_count": 5,
   "id": "a1724074",
   "metadata": {},
   "outputs": [
    {
     "ename": "QiskitNatureError",
     "evalue": "'More orbitals requested than available.'",
     "output_type": "error",
     "traceback": [
      "\u001b[0;31m---------------------------------------------------------------------------\u001b[0m",
      "\u001b[0;31mQiskitNatureError\u001b[0m                         Traceback (most recent call last)",
      "File \u001b[0;32m~/github/QC_for_Drug_Discovery/CAFQA-master/example/OH/oh.py:73\u001b[0m\n\u001b[1;32m     69\u001b[0m         res_file\u001b[38;5;241m.\u001b[39mwrite(\u001b[38;5;124mf\u001b[39m\u001b[38;5;124m\"\u001b[39m\u001b[38;5;124mVQE params:\u001b[39m\u001b[38;5;130;01m\\n\u001b[39;00m\u001b[38;5;132;01m{\u001b[39;00mnp\u001b[38;5;241m.\u001b[39marray(vqe_params)\u001b[38;5;132;01m}\u001b[39;00m\u001b[38;5;130;01m\\n\u001b[39;00m\u001b[38;5;130;01m\\n\u001b[39;00m\u001b[38;5;124m\"\u001b[39m)\n\u001b[1;32m     72\u001b[0m \u001b[38;5;28;01mif\u001b[39;00m \u001b[38;5;18m__name__\u001b[39m \u001b[38;5;241m==\u001b[39m \u001b[38;5;124m\"\u001b[39m\u001b[38;5;124m__main__\u001b[39m\u001b[38;5;124m\"\u001b[39m:\n\u001b[0;32m---> 73\u001b[0m     \u001b[43mmain\u001b[49m\u001b[43m(\u001b[49m\u001b[43m)\u001b[49m\n",
      "File \u001b[0;32m~/github/QC_for_Drug_Discovery/CAFQA-master/example/OH/oh.py:14\u001b[0m, in \u001b[0;36mmain\u001b[0;34m()\u001b[0m\n\u001b[1;32m     12\u001b[0m atom_string \u001b[38;5;241m=\u001b[39m \u001b[38;5;124mf\u001b[39m\u001b[38;5;124m\"\u001b[39m\u001b[38;5;124mO 0 0 0; H 0.45 -0.1525 -0.8454\u001b[39m\u001b[38;5;124m\"\u001b[39m\n\u001b[1;32m     13\u001b[0m num_orbitals \u001b[38;5;241m=\u001b[39m \u001b[38;5;241m10\u001b[39m\n\u001b[0;32m---> 14\u001b[0m coeffs, paulis, HF_bitstring \u001b[38;5;241m=\u001b[39m \u001b[43mmolecule\u001b[49m\u001b[43m(\u001b[49m\u001b[43matom_string\u001b[49m\u001b[43m,\u001b[49m\u001b[43m \u001b[49m\u001b[43mnum_orbitals\u001b[49m\u001b[43m,\u001b[49m\u001b[43mcharge\u001b[49m\u001b[38;5;241;43m=\u001b[39;49m\u001b[38;5;241;43m1\u001b[39;49m\u001b[43m)\u001b[49m\n\u001b[1;32m     15\u001b[0m n_qubits \u001b[38;5;241m=\u001b[39m \u001b[38;5;28mlen\u001b[39m(paulis[\u001b[38;5;241m0\u001b[39m])\n\u001b[1;32m     17\u001b[0m save_dir \u001b[38;5;241m=\u001b[39m \u001b[38;5;124m\"\u001b[39m\u001b[38;5;124m./\u001b[39m\u001b[38;5;124m\"\u001b[39m\n",
      "File \u001b[0;32m~/github/QC_for_Drug_Discovery/CAFQA-master/example/OH/../../vqe_experiment.py:43\u001b[0m, in \u001b[0;36mmolecule\u001b[0;34m(atom_string, new_num_orbitals, charge, **kwargs)\u001b[0m\n\u001b[1;32m     41\u001b[0m     num_electrons \u001b[38;5;241m=\u001b[39m (problem\u001b[38;5;241m.\u001b[39mnum_alpha, problem\u001b[38;5;241m.\u001b[39mnum_beta)\n\u001b[1;32m     42\u001b[0m     transformer \u001b[38;5;241m=\u001b[39m ActiveSpaceTransformer(num_electrons, new_num_orbitals)\n\u001b[0;32m---> 43\u001b[0m     problem \u001b[38;5;241m=\u001b[39m \u001b[43mtransformer\u001b[49m\u001b[38;5;241;43m.\u001b[39;49m\u001b[43mtransform\u001b[49m\u001b[43m(\u001b[49m\u001b[43mproblem\u001b[49m\u001b[43m)\u001b[49m\n\u001b[1;32m     44\u001b[0m ferOp \u001b[38;5;241m=\u001b[39m problem\u001b[38;5;241m.\u001b[39mhamiltonian\u001b[38;5;241m.\u001b[39msecond_q_op()\n\u001b[1;32m     45\u001b[0m qubitOp \u001b[38;5;241m=\u001b[39m converter\u001b[38;5;241m.\u001b[39mconvert(ferOp, problem\u001b[38;5;241m.\u001b[39mnum_particles)\n",
      "File \u001b[0;32m~/anaconda3/envs/QCfDD/lib/python3.9/site-packages/qiskit_nature/second_q/transformers/active_space_transformer.py:225\u001b[0m, in \u001b[0;36mActiveSpaceTransformer.transform\u001b[0;34m(self, problem)\u001b[0m\n\u001b[1;32m    207\u001b[0m \u001b[38;5;250m\u001b[39m\u001b[38;5;124;03m\"\"\"Transforms one :class:`~qiskit_nature.second_q.problems.BaseProblem` into another.\u001b[39;00m\n\u001b[1;32m    208\u001b[0m \n\u001b[1;32m    209\u001b[0m \u001b[38;5;124;03mArgs:\u001b[39;00m\n\u001b[0;32m   (...)\u001b[0m\n\u001b[1;32m    222\u001b[0m \u001b[38;5;124;03m    A new ``BaseProblem`` instance.\u001b[39;00m\n\u001b[1;32m    223\u001b[0m \u001b[38;5;124;03m\"\"\"\u001b[39;00m\n\u001b[1;32m    224\u001b[0m \u001b[38;5;28;01mif\u001b[39;00m \u001b[38;5;28misinstance\u001b[39m(problem, ElectronicStructureProblem):\n\u001b[0;32m--> 225\u001b[0m     \u001b[38;5;28;01mreturn\u001b[39;00m \u001b[38;5;28;43mself\u001b[39;49m\u001b[38;5;241;43m.\u001b[39;49m\u001b[43m_transform_electronic_structure_problem\u001b[49m\u001b[43m(\u001b[49m\u001b[43mproblem\u001b[49m\u001b[43m)\u001b[49m\n\u001b[1;32m    226\u001b[0m \u001b[38;5;28;01melse\u001b[39;00m:\n\u001b[1;32m    227\u001b[0m     \u001b[38;5;28;01mraise\u001b[39;00m \u001b[38;5;167;01mNotImplementedError\u001b[39;00m(\n\u001b[1;32m    228\u001b[0m         \u001b[38;5;124mf\u001b[39m\u001b[38;5;124m\"\u001b[39m\u001b[38;5;124mThe problem of type, \u001b[39m\u001b[38;5;132;01m{\u001b[39;00m\u001b[38;5;28mtype\u001b[39m(problem)\u001b[38;5;132;01m}\u001b[39;00m\u001b[38;5;124m, is not supported by this transformer.\u001b[39m\u001b[38;5;124m\"\u001b[39m\n\u001b[1;32m    229\u001b[0m     )\n",
      "File \u001b[0;32m~/anaconda3/envs/QCfDD/lib/python3.9/site-packages/qiskit_nature/second_q/transformers/active_space_transformer.py:234\u001b[0m, in \u001b[0;36mActiveSpaceTransformer._transform_electronic_structure_problem\u001b[0;34m(self, problem)\u001b[0m\n\u001b[1;32m    231\u001b[0m \u001b[38;5;28;01mdef\u001b[39;00m \u001b[38;5;21m_transform_electronic_structure_problem\u001b[39m(\n\u001b[1;32m    232\u001b[0m     \u001b[38;5;28mself\u001b[39m, problem: ElectronicStructureProblem\n\u001b[1;32m    233\u001b[0m ) \u001b[38;5;241m-\u001b[39m\u001b[38;5;241m>\u001b[39m ElectronicStructureProblem:\n\u001b[0;32m--> 234\u001b[0m     \u001b[38;5;28;43mself\u001b[39;49m\u001b[38;5;241;43m.\u001b[39;49m\u001b[43m_prepare_problem\u001b[49m\u001b[43m(\u001b[49m\u001b[43mproblem\u001b[49m\u001b[43m)\u001b[49m\n\u001b[1;32m    236\u001b[0m     electronic_energy \u001b[38;5;241m=\u001b[39m cast(ElectronicEnergy, \u001b[38;5;28mself\u001b[39m\u001b[38;5;241m.\u001b[39mtransform_hamiltonian(problem\u001b[38;5;241m.\u001b[39mhamiltonian))\n\u001b[1;32m    238\u001b[0m     \u001b[38;5;66;03m# construct new ElectronicStructureProblem\u001b[39;00m\n",
      "File \u001b[0;32m~/anaconda3/envs/QCfDD/lib/python3.9/site-packages/qiskit_nature/second_q/transformers/active_space_transformer.py:308\u001b[0m, in \u001b[0;36mActiveSpaceTransformer._prepare_problem\u001b[0;34m(self, problem)\u001b[0m\n\u001b[1;32m    301\u001b[0m     \u001b[38;5;28;01mraise\u001b[39;00m QiskitNatureError(\n\u001b[1;32m    302\u001b[0m         \u001b[38;5;124m\"\u001b[39m\u001b[38;5;124mUsing the ActiveSpaceTransformer requires the number of particles to be set on the \u001b[39m\u001b[38;5;124m\"\u001b[39m\n\u001b[1;32m    303\u001b[0m         \u001b[38;5;124m\"\u001b[39m\u001b[38;5;124mproblem instance. Please set ElectronicStructureProblem.num_particles to use this \u001b[39m\u001b[38;5;124m\"\u001b[39m\n\u001b[1;32m    304\u001b[0m         \u001b[38;5;124m\"\u001b[39m\u001b[38;5;124mtransformer.\u001b[39m\u001b[38;5;124m\"\u001b[39m\n\u001b[1;32m    305\u001b[0m     )\n\u001b[1;32m    307\u001b[0m \u001b[38;5;66;03m# prepare the active space\u001b[39;00m\n\u001b[0;32m--> 308\u001b[0m \u001b[38;5;28;43mself\u001b[39;49m\u001b[38;5;241;43m.\u001b[39;49m\u001b[43mprepare_active_space\u001b[49m\u001b[43m(\u001b[49m\n\u001b[1;32m    309\u001b[0m \u001b[43m    \u001b[49m\u001b[43mproblem\u001b[49m\u001b[38;5;241;43m.\u001b[39;49m\u001b[43mnum_particles\u001b[49m\u001b[43m,\u001b[49m\n\u001b[1;32m    310\u001b[0m \u001b[43m    \u001b[49m\u001b[43mproblem\u001b[49m\u001b[38;5;241;43m.\u001b[39;49m\u001b[43mnum_spatial_orbitals\u001b[49m\u001b[43m,\u001b[49m\n\u001b[1;32m    311\u001b[0m \u001b[43m    \u001b[49m\u001b[43moccupation_alpha\u001b[49m\u001b[38;5;241;43m=\u001b[39;49m\u001b[43mproblem\u001b[49m\u001b[38;5;241;43m.\u001b[39;49m\u001b[43morbital_occupations\u001b[49m\u001b[43m,\u001b[49m\n\u001b[1;32m    312\u001b[0m \u001b[43m    \u001b[49m\u001b[43moccupation_beta\u001b[49m\u001b[38;5;241;43m=\u001b[39;49m\u001b[43mproblem\u001b[49m\u001b[38;5;241;43m.\u001b[39;49m\u001b[43morbital_occupations_b\u001b[49m\u001b[43m,\u001b[49m\n\u001b[1;32m    313\u001b[0m \u001b[43m\u001b[49m\u001b[43m)\u001b[49m\n",
      "File \u001b[0;32m~/anaconda3/envs/QCfDD/lib/python3.9/site-packages/qiskit_nature/second_q/transformers/active_space_transformer.py:363\u001b[0m, in \u001b[0;36mActiveSpaceTransformer.prepare_active_space\u001b[0;34m(self, total_num_electrons, total_num_spatial_orbitals, occupation_alpha, occupation_beta)\u001b[0m\n\u001b[1;32m    358\u001b[0m \u001b[38;5;28;01mif\u001b[39;00m occupation_beta \u001b[38;5;129;01mis\u001b[39;00m \u001b[38;5;28;01mNone\u001b[39;00m:\n\u001b[1;32m    359\u001b[0m     occupation_beta \u001b[38;5;241m=\u001b[39m np\u001b[38;5;241m.\u001b[39masarray(\n\u001b[1;32m    360\u001b[0m         [\u001b[38;5;241m1.0\u001b[39m] \u001b[38;5;241m*\u001b[39m num_beta \u001b[38;5;241m+\u001b[39m [\u001b[38;5;241m0.0\u001b[39m] \u001b[38;5;241m*\u001b[39m (total_num_spatial_orbitals \u001b[38;5;241m-\u001b[39m num_beta)\n\u001b[1;32m    361\u001b[0m     )\n\u001b[0;32m--> 363\u001b[0m \u001b[38;5;28mself\u001b[39m\u001b[38;5;241m.\u001b[39m_active_orbs_indices \u001b[38;5;241m=\u001b[39m \u001b[38;5;28;43mself\u001b[39;49m\u001b[38;5;241;43m.\u001b[39;49m\u001b[43m_determine_active_space\u001b[49m\u001b[43m(\u001b[49m\n\u001b[1;32m    364\u001b[0m \u001b[43m    \u001b[49m\u001b[43msum_electrons\u001b[49m\u001b[43m,\u001b[49m\u001b[43m \u001b[49m\u001b[43mtotal_num_spatial_orbitals\u001b[49m\n\u001b[1;32m    365\u001b[0m \u001b[43m\u001b[49m\u001b[43m)\u001b[49m\n\u001b[1;32m    367\u001b[0m \u001b[38;5;66;03m# initialize size-reducing basis transformation\u001b[39;00m\n\u001b[1;32m    368\u001b[0m \u001b[38;5;28;01mif\u001b[39;00m \u001b[38;5;28mself\u001b[39m\u001b[38;5;241m.\u001b[39m_active_basis \u001b[38;5;129;01mis\u001b[39;00m \u001b[38;5;28;01mNone\u001b[39;00m:\n",
      "File \u001b[0;32m~/anaconda3/envs/QCfDD/lib/python3.9/site-packages/qiskit_nature/second_q/transformers/active_space_transformer.py:417\u001b[0m, in \u001b[0;36mActiveSpaceTransformer._determine_active_space\u001b[0;34m(self, total_num_electrons, total_num_spatial_orbitals)\u001b[0m\n\u001b[1;32m    414\u001b[0m nelec_inactive \u001b[38;5;241m=\u001b[39m total_num_electrons \u001b[38;5;241m-\u001b[39m num_alpha \u001b[38;5;241m-\u001b[39m num_beta\n\u001b[1;32m    416\u001b[0m \u001b[38;5;28mself\u001b[39m\u001b[38;5;241m.\u001b[39m_validate_num_electrons(nelec_inactive)\n\u001b[0;32m--> 417\u001b[0m \u001b[38;5;28;43mself\u001b[39;49m\u001b[38;5;241;43m.\u001b[39;49m\u001b[43m_validate_num_orbitals\u001b[49m\u001b[43m(\u001b[49m\u001b[43mnelec_inactive\u001b[49m\u001b[43m,\u001b[49m\u001b[43m \u001b[49m\u001b[43mtotal_num_spatial_orbitals\u001b[49m\u001b[43m)\u001b[49m\n\u001b[1;32m    419\u001b[0m norbs_inactive \u001b[38;5;241m=\u001b[39m nelec_inactive \u001b[38;5;241m/\u001b[39m\u001b[38;5;241m/\u001b[39m \u001b[38;5;241m2\u001b[39m\n\u001b[1;32m    420\u001b[0m active_orbs_idxs \u001b[38;5;241m=\u001b[39m \u001b[38;5;28mlist\u001b[39m(\u001b[38;5;28mrange\u001b[39m(norbs_inactive, norbs_inactive \u001b[38;5;241m+\u001b[39m \u001b[38;5;28mself\u001b[39m\u001b[38;5;241m.\u001b[39m_num_spatial_orbitals))\n",
      "File \u001b[0;32m~/anaconda3/envs/QCfDD/lib/python3.9/site-packages/qiskit_nature/second_q/transformers/active_space_transformer.py:452\u001b[0m, in \u001b[0;36mActiveSpaceTransformer._validate_num_orbitals\u001b[0;34m(self, nelec_inactive, num_spatial_orbitals)\u001b[0m\n\u001b[1;32m    450\u001b[0m     norbs_inactive \u001b[38;5;241m=\u001b[39m nelec_inactive \u001b[38;5;241m/\u001b[39m\u001b[38;5;241m/\u001b[39m \u001b[38;5;241m2\u001b[39m\n\u001b[1;32m    451\u001b[0m     \u001b[38;5;28;01mif\u001b[39;00m norbs_inactive \u001b[38;5;241m+\u001b[39m \u001b[38;5;28mself\u001b[39m\u001b[38;5;241m.\u001b[39m_num_spatial_orbitals \u001b[38;5;241m>\u001b[39m num_spatial_orbitals:\n\u001b[0;32m--> 452\u001b[0m         \u001b[38;5;28;01mraise\u001b[39;00m QiskitNatureError(\u001b[38;5;124m\"\u001b[39m\u001b[38;5;124mMore orbitals requested than available.\u001b[39m\u001b[38;5;124m\"\u001b[39m)\n\u001b[1;32m    453\u001b[0m \u001b[38;5;28;01melse\u001b[39;00m:\n\u001b[1;32m    454\u001b[0m     \u001b[38;5;28;01mif\u001b[39;00m \u001b[38;5;28mself\u001b[39m\u001b[38;5;241m.\u001b[39m_num_spatial_orbitals \u001b[38;5;241m!=\u001b[39m \u001b[38;5;28mlen\u001b[39m(\u001b[38;5;28mself\u001b[39m\u001b[38;5;241m.\u001b[39m_active_orbitals):\n",
      "\u001b[0;31mQiskitNatureError\u001b[0m: 'More orbitals requested than available.'"
     ]
    }
   ],
   "source": [
    "%run oh.py"
   ]
  },
  {
   "cell_type": "code",
   "execution_count": null,
   "id": "2922b129",
   "metadata": {},
   "outputs": [],
   "source": []
  },
  {
   "cell_type": "code",
   "execution_count": null,
   "id": "2b443774",
   "metadata": {},
   "outputs": [],
   "source": []
  },
  {
   "cell_type": "code",
   "execution_count": null,
   "id": "02807329",
   "metadata": {},
   "outputs": [],
   "source": []
  }
 ],
 "metadata": {
  "kernelspec": {
   "display_name": "Python 3 (ipykernel)",
   "language": "python",
   "name": "python3"
  },
  "language_info": {
   "codemirror_mode": {
    "name": "ipython",
    "version": 3
   },
   "file_extension": ".py",
   "mimetype": "text/x-python",
   "name": "python",
   "nbconvert_exporter": "python",
   "pygments_lexer": "ipython3",
   "version": "3.9.18"
  }
 },
 "nbformat": 4,
 "nbformat_minor": 5
}
