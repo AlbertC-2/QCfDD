{
 "cells": [
  {
   "cell_type": "code",
   "execution_count": null,
   "id": "05a4287b",
   "metadata": {
    "scrolled": true
   },
   "outputs": [
    {
     "name": "stderr",
     "output_type": "stream",
     "text": [
      " /home/ace/anaconda3/envs/QCfDD/lib/python3.9/site-packages/pyscf/dft/libxc.py:772: UserWarning:Since PySCF-2.3, B3LYP (and B3P86) are changed to the VWN-RPA variant, the same to the B3LYP functional in Gaussian and ORCA (issue 1480). To restore the VWN5 definition, you can put the setting \"B3LYP_WITH_VWN5 = True\" in pyscf_conf.py\n",
      " /home/ace/anaconda3/envs/QCfDD/lib/python3.9/site-packages/qiskit_nature/deprecation.py:297: PauliSumOpDeprecationWarning:PauliSumOp is deprecated as of version 0.6.0 and support for them will be removed no sooner than 3 months after the release. Instead, use SparsePauliOp. You can switch to SparsePauliOp immediately, by setting `qiskit_nature.settings.use_pauli_sum_op` to `False`.\n"
     ]
    },
    {
     "name": "stdout",
     "output_type": "stream",
     "text": [
      "all circs run!\n",
      "Loss computed by VQE is -46.195294357219844, in 3466.496621148006 s.\n"
     ]
    }
   ],
   "source": [
    "import numpy as np\n",
    "from qiskit.providers.fake_provider import *\n",
    "import sys\n",
    "\n",
    "\n",
    "from vqe_experiment import *\n",
    "\n",
    "\n",
    "def main():\n",
    "    bond_length = 1.0\n",
    "    # H2 molecule string\n",
    "    atom_string = f\"O 0 0 0; H 0.45 -0.1525 -0.8454\"\n",
    "    num_orbitals = 6\n",
    "    coeffs, paulis, HF_bitstring = molecule(atom_string, num_orbitals,charge=1)\n",
    "    n_qubits = len(paulis[0])\n",
    "\n",
    "    save_dir = \"./\"\n",
    "    result_file = \"result.txt\"\n",
    "    budget = 500\n",
    "    vqe_kwargs = {\n",
    "        \"ansatz_reps\": 2,\n",
    "        \"init_last\": False,\n",
    "        \"HF_bitstring\": HF_bitstring\n",
    "    }\n",
    "    \n",
    "    # run CAFQA\n",
    "    cafqa_guess = [] # will start from all 0 parameters\n",
    "    loss_file = \"cafqa_loss.txt\"\n",
    "    params_file = \"cafqa_params.txt\"\n",
    "    cafqa_energy, cafqa_params = run_cafqa(\n",
    "        n_qubits=n_qubits,\n",
    "        coeffs=coeffs,\n",
    "        paulis=paulis,\n",
    "        param_guess=cafqa_guess,\n",
    "        budget=budget,\n",
    "        shots=None,\n",
    "        mode=None,\n",
    "        backend=None,\n",
    "        save_dir=save_dir,\n",
    "        loss_file=loss_file,\n",
    "        params_file=params_file,\n",
    "        vqe_kwargs=vqe_kwargs\n",
    "    )\n",
    "    with open(save_dir + result_file, \"w\") as res_file:\n",
    "        res_file.write(f\"CAFQA energy:\\n{cafqa_energy}\\n\")\n",
    "        res_file.write(f\"CAFQA params (x pi/2):\\n{np.array(cafqa_params)}\\n\\n\")\n",
    "    \n",
    "    #debug\n",
    "    #cafqa_params=[0, 0, 0, 2, 0, 0, 0, 0, 0, 0, 0, 2, 2, 0, 3, 0, 3, 1, 0, 1, 0, 2, 0, 1, 0, 0, 2, 2, 0, 0, 0, 0, 2, 0, 0, 1, 0, 0, 0, 0, 0, 0, 0, 1 ,2, 0, 0, 0, 0, 0, 3, 0, 0, 0, 0, 0, 0, 0, 0, 1, 2, 0, 0, 0, 0, 0, 3, 2, 0, 0, 0, 1]\n",
    "    # VQE with CAFQA initialization\n",
    "    shots = 8192\n",
    "    loss_file = \"vqe_loss.txt\"\n",
    "    params_file = \"vqe_params.txt\"\n",
    "    vqe_energy, vqe_params = run_vqe(\n",
    "        n_qubits=n_qubits,\n",
    "        coeffs=coeffs,\n",
    "        paulis=paulis,\n",
    "        param_guess=np.array(cafqa_params)*np.pi/2, #注意,cafqa_params是由CAFQA部分函数计算所得的在Clifford空间中最佳的参数,本段程序是想要在此基础上求得在vqe空间中的最佳参数,并优化cafqa部分所算得的energy的结果\n",
    "        budget=budget,\n",
    "        shots=shots,\n",
    "        mode=\"device_execution\",\n",
    "        backend=FakeMontreal(),\n",
    "        save_dir=save_dir,\n",
    "        loss_file=loss_file,\n",
    "        params_file=params_file,\n",
    "        vqe_kwargs=vqe_kwargs\n",
    "    )\n",
    "    with open(save_dir + result_file, \"a\") as res_file:\n",
    "        res_file.write(f\"VQE energy:\\n{vqe_energy}\\n\")\n",
    "        res_file.write(f\"VQE params:\\n{np.array(vqe_params)}\\n\\n\")\n",
    "\n",
    "\n",
    "if __name__ == \"__main__\":\n",
    "    main()\n"
   ]
  },
  {
   "cell_type": "code",
   "execution_count": null,
   "id": "0251d2af",
   "metadata": {},
   "outputs": [],
   "source": []
  }
 ],
 "metadata": {
  "kernelspec": {
   "display_name": "Python 3 (ipykernel)",
   "language": "python",
   "name": "python3"
  },
  "language_info": {
   "codemirror_mode": {
    "name": "ipython",
    "version": 3
   },
   "file_extension": ".py",
   "mimetype": "text/x-python",
   "name": "python",
   "nbconvert_exporter": "python",
   "pygments_lexer": "ipython3",
   "version": "3.9.18"
  }
 },
 "nbformat": 4,
 "nbformat_minor": 5
}
