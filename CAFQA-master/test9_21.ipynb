{
 "cells": [
  {
   "cell_type": "code",
   "execution_count": 4,
   "id": "36f4b716-66c3-4e0c-b166-374843fd05fc",
   "metadata": {},
   "outputs": [
    {
     "name": "stdout",
     "output_type": "stream",
     "text": [
      "[-0.8567854  -0.13036292  0.13716573  0.10622904  0.13716573  0.15660062\n",
      "  0.04919765  0.04919765  0.04919765  0.04919765 -0.13036292  0.15542669\n",
      "  0.15542669  0.16326769  0.10622904  0.52917721]\n",
      "['IIII' 'IZII' 'ZIII' 'ZZII' 'IIZI' 'ZIZI' 'YYYY' 'YYXX' 'XXYY' 'XXXX'\n",
      " 'IIIZ' 'ZIIZ' 'IZZI' 'IZIZ' 'IIZZ' 'IIII']\n",
      "1010\n"
     ]
    }
   ],
   "source": [
    "from vqe_experiment import *\n",
    "bond_length = 1.0\n",
    "# H2 molecule string\n",
    "atom_string = f\"H 0 0 0; H 0 0 {bond_length}\"\n",
    "num_orbitals = 2\n",
    "coeffs, paulis, HF_bitstring = molecule(atom_string, num_orbitals)\n",
    "print(coeffs)\n",
    "print(paulis)\n",
    "print(HF_bitstring)\n",
    "n_qubits = len(paulis[0])\n"
   ]
  },
  {
   "cell_type": "code",
   "execution_count": 2,
   "id": "75a04fb8-50de-4487-946f-296eb33975f0",
   "metadata": {},
   "outputs": [
    {
     "name": "stdout",
     "output_type": "stream",
     "text": [
      "Polynomial Tensor\n",
      " \"+-\":\n",
      "[[-1.11084418e+00 -1.11022302e-16]\n",
      " [-2.22044605e-16 -5.89121004e-01]]\n",
      " \"++--\":\n",
      "[[[[6.26402500e-01 6.93889390e-18]\n",
      "   [0.00000000e+00 1.96790583e-01]]\n",
      "\n",
      "  [[8.32667268e-17 1.96790583e-01]\n",
      "   [6.21706763e-01 3.33066907e-16]]]\n",
      "\n",
      "\n",
      " [[[2.77555756e-17 6.21706763e-01]\n",
      "   [1.96790583e-01 3.33066907e-16]]\n",
      "\n",
      "  [[1.96790583e-01 2.77555756e-16]\n",
      "   [2.49800181e-16 6.53070747e-01]]]]\n",
      "<qiskit_nature.second_q.problems.electronic_structure_problem.ElectronicStructureProblem object at 0x7f12940243a0>\n",
      "<qiskit_nature.second_q.hamiltonians.electronic_energy.ElectronicEnergy object at 0x7f129402e070>\n",
      "<qiskit_nature.second_q.operators.electronic_integrals.ElectronicIntegrals object at 0x7f129402ec10>\n",
      "Fermionic Operator\n",
      "number spin orbitals=4, number terms=36\n",
      "  0.31320124976475894 * ( +_0 +_0 -_0 -_0 )\n",
      "+ 0.09839529174273501 * ( +_0 +_0 -_1 -_1 )\n",
      "+ 0.09839529174273508 * ( +_0 +_1 -_0 -_1 )\n",
      "+ 0.31085338155985653 * ( +_0 +_1 -_1 -_0 )\n",
      "+ 0.31320124976475894 * ( +_0 +_2 -_2 -_0 )\n",
      "+ 0.09839529174273501 * ( +_0 +_2 -_3 -_1 )\n",
      "+ 0.09839529174273508 * ( +_0 +_3 -_2 -_1 )\n",
      "+ 0.31085338155985653 * ( +_0 +_3 -_3 -_0 )\n",
      "+ 0.3108533815598566 * ( +_1 +_0 -_0 -_1 )\n",
      "+ 0.09839529174273508 * ( +_1 +_0 -_1 -_0 )\n",
      "+ 0.09839529174273508 * ( +_1 +_1 -_0 -_0 )\n",
      "+ 0.32653537347128686 * ( +_1 +_1 -_1 -_1 )\n",
      "+ 0.3108533815598566 * ( +_1 +_2 -_2 -_1 )\n",
      "+ 0.09839529174273508 * ( +_1 +_2 -_3 -_0 )\n",
      "+ 0.09839529174273508 * ( +_1 +_3 -_2 -_0 )\n",
      "+ 0.32653537347128686 * ( +_1 +_3 -_3 -_1 )\n",
      "+ 0.31320124976475894 * ( +_2 +_0 -_0 -_2 )\n",
      "+ 0.09839529174273501 * ( +_2 +_0 -_1 -_3 )\n",
      "+ 0.09839529174273508 * ( +_2 +_1 -_0 -_3 )\n",
      "+ 0.31085338155985653 * ( +_2 +_1 -_1 -_2 )\n",
      "+ 0.31320124976475894 * ( +_2 +_2 -_2 -_2 )\n",
      "+ 0.09839529174273501 * ( +_2 +_2 -_3 -_3 )\n",
      "+ 0.09839529174273508 * ( +_2 +_3 -_2 -_3 )\n",
      "+ 0.31085338155985653 * ( +_2 +_3 -_3 -_2 )\n",
      "+ 0.3108533815598566 * ( +_3 +_0 -_0 -_3 )\n",
      "+ 0.09839529174273508 * ( +_3 +_0 -_1 -_2 )\n",
      "+ 0.09839529174273508 * ( +_3 +_1 -_0 -_2 )\n",
      "+ 0.32653537347128686 * ( +_3 +_1 -_1 -_3 )\n",
      "+ 0.3108533815598566 * ( +_3 +_2 -_2 -_3 )\n",
      "+ 0.09839529174273508 * ( +_3 +_2 -_3 -_2 )\n",
      "+ 0.09839529174273508 * ( +_3 +_3 -_2 -_2 )\n",
      "+ 0.32653537347128686 * ( +_3 +_3 -_3 -_3 )\n",
      "+ -1.1108441798837272 * ( +_0 -_0 )\n",
      "+ -0.589121003706083 * ( +_1 -_1 )\n",
      "+ -1.1108441798837272 * ( +_2 -_2 )\n",
      "+ -0.589121003706083 * ( +_3 -_3 )\n"
     ]
    }
   ],
   "source": [
    "from qiskit_nature.units import DistanceUnit\n",
    "from qiskit_nature.second_q.drivers import PySCFDriver\n",
    "import qiskit\n",
    "import qiskit_nature\n",
    "ultra_simplified_ala_string = \"\"\"\n",
    "H 0.0 0.0 0.0\n",
    "H 0.0 0.0 1.0\n",
    "\"\"\"\n",
    "\n",
    "driver = PySCFDriver(\n",
    "    atom=ultra_simplified_ala_string.strip(),\n",
    "    basis='sto3g',\n",
    "    charge=0,\n",
    "    spin=0,\n",
    "    unit=DistanceUnit.ANGSTROM\n",
    ")\n",
    "qmolecule = driver.run()\n",
    "\n",
    "hamiltonian = qmolecule.hamiltonian\n",
    "coefficients = hamiltonian.electronic_integrals\n",
    "print(coefficients.alpha)\n",
    "second_q_op = hamiltonian.second_q_op()\n",
    "\n",
    "print(qmolecule)\n",
    "print(hamiltonian)\n",
    "print(coefficients)\n",
    "print(second_q_op)"
   ]
  },
  {
   "cell_type": "code",
   "execution_count": null,
   "id": "476759b1",
   "metadata": {},
   "outputs": [],
   "source": []
  }
 ],
 "metadata": {
  "kernelspec": {
   "display_name": "Python 3 (ipykernel)",
   "language": "python",
   "name": "python3"
  },
  "language_info": {
   "codemirror_mode": {
    "name": "ipython",
    "version": 3
   },
   "file_extension": ".py",
   "mimetype": "text/x-python",
   "name": "python",
   "nbconvert_exporter": "python",
   "pygments_lexer": "ipython3",
   "version": "3.9.18"
  }
 },
 "nbformat": 4,
 "nbformat_minor": 5
}
